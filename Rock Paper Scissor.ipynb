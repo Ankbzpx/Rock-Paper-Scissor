{
 "cells": [
  {
   "cell_type": "code",
   "execution_count": 1,
   "metadata": {
    "colab": {},
    "colab_type": "code",
    "id": "3CzppqrVWfqI"
   },
   "outputs": [],
   "source": [
    "import numpy as np\n",
    "import torch\n",
    "from torch.autograd import Variable\n",
    "import matplotlib.pyplot as plt\n",
    "from matplotlib.ticker import MaxNLocator"
   ]
  },
  {
   "cell_type": "code",
   "execution_count": 2,
   "metadata": {
    "colab": {},
    "colab_type": "code",
    "id": "WBIq9Y6AWfqL"
   },
   "outputs": [],
   "source": [
    "# Hyper parameter\n",
    "# Maximum length of history to record\n",
    "max_k = 5\n",
    "# Learning rate\n",
    "lr = 0.1\n",
    "# Training epoch\n",
    "epoch = 20\n",
    "# Momentum\n",
    "beta = 0.9\n",
    "\n",
    "# Learnable parameter\n",
    "# History length\n",
    "k_s = 3\n",
    "k_o = 3\n",
    "# Greedy factor\n",
    "g = torch.tensor(0.5, dtype=torch.float, requires_grad=True)\n",
    "# Experience factor\n",
    "e = torch.tensor(0.5, dtype=torch.float, requires_grad=True)"
   ]
  },
  {
   "cell_type": "code",
   "execution_count": 3,
   "metadata": {
    "colab": {},
    "colab_type": "code",
    "id": "zbvuwShzWfqO"
   },
   "outputs": [],
   "source": [
    "def GetInputString(input):\n",
    "    if input == 0:\n",
    "        return \"rock\"\n",
    "    elif input == 1:\n",
    "        return \"paper\"\n",
    "    elif input == 2:\n",
    "        return \"scissor\""
   ]
  },
  {
   "cell_type": "code",
   "execution_count": 4,
   "metadata": {
    "colab": {},
    "colab_type": "code",
    "id": "qWBdbVAIWfqR"
   },
   "outputs": [],
   "source": [
    "def GetPosterior_opponent(k, history):\n",
    "    # Get last k choice\n",
    "    his = history[-k:]\n",
    "    \n",
    "    # Likelihood with laplace smooth\n",
    "    c_rock = history.count(his + str(0)) + 1\n",
    "    c_paper = history.count(his + str(1)) + 1\n",
    "    c_scissor = history.count(his + str(2)) + 1\n",
    "    deno = c_rock + c_paper + c_scissor\n",
    "    li = np.array([c_rock/deno, c_paper/deno, c_scissor/deno])\n",
    "    #print(\"Likelihood: \", li)\n",
    "    \n",
    "    # Prior with laplace smooth\n",
    "    c_all = len(history) + 3\n",
    "    pr_rock = (history.count(str(0)) + 1)/c_all\n",
    "    pr_paper = (history.count(str(1)) + 1)/c_all\n",
    "    pr_scissor = (history.count(str(2)) + 1)/c_all\n",
    "    pr = np.array([pr_rock, pr_paper, pr_scissor])\n",
    "    # print(\"Prior: \", pr)\n",
    "    \n",
    "    # Posterior\n",
    "    pos = (li*pr)/np.sum(li*pr)\n",
    "    \n",
    "    return pos"
   ]
  },
  {
   "cell_type": "code",
   "execution_count": 5,
   "metadata": {
    "colab": {},
    "colab_type": "code",
    "id": "CxS6kmzvWfqU"
   },
   "outputs": [],
   "source": [
    "def GetPosterior_self(k, self_history, global_history):\n",
    "    # Get last k choice\n",
    "    his = global_history[-k*2:]\n",
    "    \n",
    "    # Likelihood with laplace smooth\n",
    "    c_rock = global_history.count(his + str(0)) + 1\n",
    "    c_paper = global_history.count(his + str(1)) + 1\n",
    "    c_scissor = global_history.count(his + str(2)) + 1\n",
    "    deno = c_rock + c_paper + c_scissor\n",
    "    li = np.array([c_rock/deno, c_paper/deno, c_scissor/deno])\n",
    "    #print(\"Likelihood: \", li)\n",
    "    \n",
    "    # Prior with laplace smooth\n",
    "    c_all = len(self_history) + 3\n",
    "    pr_rock = (self_history.count(str(0)) + 1)/c_all\n",
    "    pr_paper = (self_history.count(str(1)) + 1)/c_all\n",
    "    pr_scissor = (self_history.count(str(2)) + 1)/c_all\n",
    "    pr = np.array([pr_rock, pr_paper, pr_scissor])\n",
    "    #print(\"Prior: \", pr)\n",
    "    \n",
    "    # Posterior\n",
    "    pos = (li*pr)/np.sum(li*pr)\n",
    "    \n",
    "    return pos"
   ]
  },
  {
   "cell_type": "code",
   "execution_count": 6,
   "metadata": {
    "colab": {},
    "colab_type": "code",
    "id": "hk6JdphOWfqX"
   },
   "outputs": [],
   "source": [
    "def RecordHistory(cpu_history, cpu_global_history, self_history, global_history, user_input, cpu_input):\n",
    "    \n",
    "    print(\"User input: \", GetInputString(user_input))\n",
    "    print(\"CPU input: \", GetInputString(cpu_input))\n",
    "    \n",
    "    self_history += str(user_input)\n",
    "    cpu_history += str(cpu_input)\n",
    "    \n",
    "    global_history += str(user_input)\n",
    "    global_history += str(cpu_input)\n",
    "    \n",
    "    cpu_global_history += str(cpu_input)\n",
    "    cpu_global_history += str(user_input)\n",
    "    \n",
    "    if any( [user_input == 0 and cpu_input == 0, user_input == 1 and cpu_input == 1, user_input == 2 and cpu_input == 2] ):\n",
    "        print(\"Draw\")\n",
    "    elif any([user_input == 0 and cpu_input == 2, user_input == 1 and cpu_input == 0, user_input == 2 and cpu_input == 1]):\n",
    "        print(\"Win\")\n",
    "    elif any([user_input == 0 and cpu_input == 1, user_input == 1 and cpu_input == 2, user_input == 2 and cpu_input == 0]):\n",
    "        print(\"Lose\")\n",
    "        \n",
    "    return cpu_history, cpu_global_history, self_history, global_history"
   ]
  },
  {
   "cell_type": "code",
   "execution_count": 7,
   "metadata": {
    "colab": {},
    "colab_type": "code",
    "id": "9_Br0hxMWfqa"
   },
   "outputs": [],
   "source": [
    "def PosteriorCalculation(cpu_history, cpu_global_history, self_history, global_history, g, e, k_s, k_o):\n",
    "    # Get the posterior\n",
    "    p_o = GetPosterior_self(k_o, cpu_history, cpu_global_history)\n",
    "    p_s = GetPosterior_self(k_s, self_history, global_history)\n",
    "       \n",
    "    r = (g*p_o[2] + (1-g)*p_o[0])*(1-e) + e*p_s[0]    \n",
    "    p = (g*p_o[0] + (1-g)*p_o[1])*(1-e) + e*p_s[1]   \n",
    "    s = (g*p_o[1] + (1-g)*p_o[2])*(1-e) + e*p_s[2]\n",
    "    \n",
    "    P = np.array([r, p, s])\n",
    "    \n",
    "    return P"
   ]
  },
  {
   "cell_type": "code",
   "execution_count": 8,
   "metadata": {
    "colab": {},
    "colab_type": "code",
    "id": "jJc5IDfwWfqe"
   },
   "outputs": [],
   "source": [
    "def AlternativeVote(k_list, max_k):\n",
    "\n",
    "    k_array = np.fliplr(np.array(k_list))\n",
    "\n",
    "    countList = []\n",
    "    entry = np.arange(1, 1+max_k, 1)\n",
    "\n",
    "    for i in range(max_k - 1):\n",
    "        countList = []\n",
    "        for e in entry:\n",
    "            countList.append(np.sum(k_array[:, 0] == e))\n",
    "\n",
    "        min_index = np.argmin(countList)\n",
    "\n",
    "        temp = np.zeros(k_array.shape[0])\n",
    "        for i in range(0, k_array.shape[0]):\n",
    "            for j in reversed(range(0, k_array.shape[1])):\n",
    "                if k_array[i,j] != entry[min_index]:\n",
    "                    temp[i] = k_array[i,j]\n",
    "                    continue\n",
    "\n",
    "        entry = np.delete(entry, min_index)\n",
    "        \n",
    "    return entry.item()"
   ]
  },
  {
   "cell_type": "code",
   "execution_count": 9,
   "metadata": {
    "colab": {},
    "colab_type": "code",
    "id": "cnMfBWNYWfqj"
   },
   "outputs": [],
   "source": [
    "def UpdateParameters(lr, cpu_input, user_input, cpu_history, cpu_global_history, self_history, global_history, g, e, v_g, v_e):\n",
    "    \n",
    "    # For opponent k\n",
    "    p_k_o = []\n",
    "    for k_o in range(1, 6):\n",
    "        p_k_o.append(GetPosterior_self(k_o, cpu_history, cpu_global_history)[cpu_input])\n",
    "    \n",
    "    k_index_o = np.argsort(np.asarray(p_k_o)) + 1\n",
    "    k_o = k_index_o[0]\n",
    "    \n",
    "    #print(k_o)\n",
    "    \n",
    "    # For self k\n",
    "    p_k = []\n",
    "    for k in range(1, 6):\n",
    "        p_k.append(PosteriorCalculation(cpu_history, cpu_global_history, self_history, global_history, g, e, k, k_o)[user_input])\n",
    "    \n",
    "    # Similar to Q learning, best reward\n",
    "    p = np.max(np.asarray(p_k))\n",
    "    # Sorted k index\n",
    "    k_index = np.argsort(np.asarray(p_k)) + 1\n",
    "    \n",
    "    #print(k_index)\n",
    "\n",
    "    \n",
    "    nll = -user_input*torch.log(p)\n",
    "    nll.backward()\n",
    "    \n",
    "    v_g = beta*v_g + (1-beta)*g.grad\n",
    "    v_e = beta*v_e + (1-beta)*e.grad\n",
    "    \n",
    "    g.data -= lr*v_g\n",
    "    e.data -= lr*v_e\n",
    "    \n",
    "    if g.data < 0.1:\n",
    "        g.data = torch.tensor(0.1)\n",
    "    elif g.data > 0.9:\n",
    "        g.data = torch.tensor(0.9)\n",
    "    \n",
    "    if e.data < 0.1:\n",
    "        e.data = torch.tensor(0.1)\n",
    "    elif e.data > 0.9:\n",
    "        e.data = torch.tensor(0.9)\n",
    "    \n",
    "    #print(g)\n",
    "    #print(e)\n",
    "    \n",
    "    # Clear gradient\n",
    "    g.grad.data.zero_()\n",
    "    e.grad.data.zero_()\n",
    "    \n",
    "    return k_index, g, e, nll.data.numpy().item(), v_g, v_e"
   ]
  },
  {
   "cell_type": "code",
   "execution_count": 10,
   "metadata": {
    "colab": {},
    "colab_type": "code",
    "id": "sb1zoLbyWfqm"
   },
   "outputs": [],
   "source": [
    "def GetUserInput():\n",
    "    user_input = int(input(\"Rock 0, Paper 1 or Scissor 2? (stop 3) \"))\n",
    "    \n",
    "    while(user_input != 0 and user_input != 1 and user_input != 2 and user_input != 3):\n",
    "        user_input = int(input(\"Rock 0, Paper 1 or Scissor 2? (stop 3) \"))\n",
    "    \n",
    "    return user_input"
   ]
  },
  {
   "cell_type": "code",
   "execution_count": 11,
   "metadata": {
    "colab": {},
    "colab_type": "code",
    "id": "ASI2Y534Wfqo"
   },
   "outputs": [],
   "source": [
    "def GetCPUInput_train():\n",
    "    cpu_rand = np.random.random_sample()\n",
    "    if cpu_rand <= 1/3:\n",
    "        cpu_input = 0\n",
    "    elif cpu_rand <= 2/3:\n",
    "        cpu_input = 1\n",
    "    elif cpu_rand <= 1:\n",
    "        cpu_input = 2\n",
    "    \n",
    "    return cpu_input"
   ]
  },
  {
   "cell_type": "code",
   "execution_count": 14,
   "metadata": {
    "colab": {},
    "colab_type": "code",
    "id": "cINGS4-nWfqr"
   },
   "outputs": [],
   "source": [
    "# History\n",
    "# Online\n",
    "cpu_history = \"\"\n",
    "cpu_global_history = \"\"\n",
    "# Datebase\n",
    "self_history = \"\"\n",
    "global_history = \"\""
   ]
  },
  {
   "cell_type": "code",
   "execution_count": 15,
   "metadata": {
    "colab": {
     "base_uri": "https://localhost:8080/",
     "height": 874
    },
    "colab_type": "code",
    "executionInfo": {
     "elapsed": 13686,
     "status": "error",
     "timestamp": 1561631703582,
     "user": {
      "displayName": "Ruichen Zheng",
      "photoUrl": "https://lh4.googleusercontent.com/-6Dp_Qd9nKrI/AAAAAAAAAAI/AAAAAAAA8O4/JHbNZn5Xe6g/s64/photo.jpg",
      "userId": "13358573487705527957"
     },
     "user_tz": -60
    },
    "id": "LbgINuXjWfqw",
    "outputId": "d9f37f7c-a969-4349-eec3-8cd882e70169",
    "scrolled": false
   },
   "outputs": [
    {
     "name": "stdout",
     "output_type": "stream",
     "text": [
      "Training...\n",
      "===============================================================\n",
      "Epoch:  0\n",
      "Rock 0, Paper 1 or Scissor 2? (stop 3) 0\n",
      "User input:  rock\n",
      "CPU input:  paper\n",
      "Lose\n",
      "===============================================================\n",
      "Epoch:  1\n",
      "Rock 0, Paper 1 or Scissor 2? (stop 3) 0\n",
      "User input:  rock\n",
      "CPU input:  paper\n",
      "Lose\n",
      "===============================================================\n",
      "Epoch:  2\n",
      "Rock 0, Paper 1 or Scissor 2? (stop 3) 0\n",
      "User input:  rock\n",
      "CPU input:  rock\n",
      "Draw\n",
      "===============================================================\n",
      "Epoch:  3\n",
      "Rock 0, Paper 1 or Scissor 2? (stop 3) 2\n",
      "User input:  scissor\n",
      "CPU input:  paper\n",
      "Win\n",
      "===============================================================\n",
      "Epoch:  4\n",
      "Rock 0, Paper 1 or Scissor 2? (stop 3) 1\n",
      "User input:  paper\n",
      "CPU input:  paper\n",
      "Draw\n",
      "===============================================================\n",
      "Epoch:  5\n",
      "Rock 0, Paper 1 or Scissor 2? (stop 3) 0\n",
      "User input:  rock\n",
      "CPU input:  paper\n",
      "Lose\n",
      "===============================================================\n",
      "Epoch:  6\n",
      "Rock 0, Paper 1 or Scissor 2? (stop 3) 1\n",
      "User input:  paper\n",
      "CPU input:  paper\n",
      "Draw\n",
      "===============================================================\n",
      "Epoch:  7\n",
      "Rock 0, Paper 1 or Scissor 2? (stop 3) 0\n",
      "User input:  rock\n",
      "CPU input:  rock\n",
      "Draw\n",
      "===============================================================\n",
      "Epoch:  8\n",
      "Rock 0, Paper 1 or Scissor 2? (stop 3) 2\n",
      "User input:  scissor\n",
      "CPU input:  paper\n",
      "Win\n",
      "===============================================================\n",
      "Epoch:  9\n",
      "Rock 0, Paper 1 or Scissor 2? (stop 3) 2\n",
      "User input:  scissor\n",
      "CPU input:  scissor\n",
      "Draw\n",
      "===============================================================\n",
      "Epoch:  10\n",
      "Rock 0, Paper 1 or Scissor 2? (stop 3) 1\n",
      "User input:  paper\n",
      "CPU input:  rock\n",
      "Win\n",
      "===============================================================\n",
      "Epoch:  11\n",
      "Rock 0, Paper 1 or Scissor 2? (stop 3) 0\n",
      "User input:  rock\n",
      "CPU input:  rock\n",
      "Draw\n",
      "===============================================================\n",
      "Epoch:  12\n",
      "Rock 0, Paper 1 or Scissor 2? (stop 3) 2\n",
      "User input:  scissor\n",
      "CPU input:  rock\n",
      "Lose\n",
      "===============================================================\n",
      "Epoch:  13\n",
      "Rock 0, Paper 1 or Scissor 2? (stop 3) 1\n",
      "User input:  paper\n",
      "CPU input:  scissor\n",
      "Lose\n",
      "===============================================================\n",
      "Epoch:  14\n",
      "Rock 0, Paper 1 or Scissor 2? (stop 3) 0\n",
      "User input:  rock\n",
      "CPU input:  rock\n",
      "Draw\n",
      "===============================================================\n",
      "Epoch:  15\n",
      "Rock 0, Paper 1 or Scissor 2? (stop 3) 0\n",
      "User input:  rock\n",
      "CPU input:  scissor\n",
      "Win\n",
      "===============================================================\n",
      "Epoch:  16\n",
      "Rock 0, Paper 1 or Scissor 2? (stop 3) 2\n",
      "User input:  scissor\n",
      "CPU input:  rock\n",
      "Lose\n",
      "===============================================================\n",
      "Epoch:  17\n",
      "Rock 0, Paper 1 or Scissor 2? (stop 3) 2\n",
      "User input:  scissor\n",
      "CPU input:  rock\n",
      "Lose\n",
      "===============================================================\n",
      "Epoch:  18\n",
      "Rock 0, Paper 1 or Scissor 2? (stop 3) 1\n",
      "User input:  paper\n",
      "CPU input:  paper\n",
      "Draw\n",
      "===============================================================\n",
      "Epoch:  19\n",
      "Rock 0, Paper 1 or Scissor 2? (stop 3) 1\n",
      "User input:  paper\n",
      "CPU input:  rock\n",
      "Win\n"
     ]
    }
   ],
   "source": [
    "v_g = torch.tensor(0.0)\n",
    "v_e = torch.tensor(0.0)\n",
    "\n",
    "print(\"Training...\")\n",
    "g_list = []\n",
    "e_list = []\n",
    "k_list = []\n",
    "\n",
    "for i in range(epoch):\n",
    "    print(\"===============================================================\")\n",
    "    print(\"Epoch: \", i)\n",
    "    # Get user input\n",
    "    user_input = GetUserInput()\n",
    "    \n",
    "    # Get cpu input\n",
    "    cpu_input = GetCPUInput_train()\n",
    "    \n",
    "    if user_input == 3:\n",
    "        print(\"Stop\")\n",
    "        break\n",
    "    elif user_input == 0 or user_input == 1 or user_input == 2:\n",
    "        k_index, g, e, nll, v_g, v_e = UpdateParameters(lr, cpu_input, user_input, cpu_history, cpu_global_history, self_history, global_history, g, e, v_g, v_e)\n",
    "\n",
    "        cpu_history, cpu_global_history, self_history, global_history = RecordHistory(cpu_history, cpu_global_history, self_history, global_history, user_input, cpu_input)\n",
    "        \n",
    "        g_list.append(g.data.numpy().item())\n",
    "        e_list.append(e.data.numpy().item())\n",
    "        k_list.append(k_index)\n",
    "        #print(\"loss: \", nll)\n",
    "\n",
    "        \n",
    "k_s = AlternativeVote(k_list, max_k)\n",
    "        "
   ]
  },
  {
   "cell_type": "code",
   "execution_count": 16,
   "metadata": {
    "colab": {
     "base_uri": "https://localhost:8080/",
     "height": 300
    },
    "colab_type": "code",
    "executionInfo": {
     "elapsed": 1208,
     "status": "ok",
     "timestamp": 1561631615585,
     "user": {
      "displayName": "Ruichen Zheng",
      "photoUrl": "https://lh4.googleusercontent.com/-6Dp_Qd9nKrI/AAAAAAAAAAI/AAAAAAAA8O4/JHbNZn5Xe6g/s64/photo.jpg",
      "userId": "13358573487705527957"
     },
     "user_tz": -60
    },
    "id": "gVQOw7QHWfq2",
    "outputId": "f05572c7-556d-497e-b6a8-0ed3c79fa283"
   },
   "outputs": [
    {
     "data": {
      "text/plain": [
       "<matplotlib.legend.Legend at 0x7fc0a2f42320>"
      ]
     },
     "execution_count": 16,
     "metadata": {},
     "output_type": "execute_result"
    },
    {
     "data": {
      "image/png": "[encoded data removed]",
      "text/plain": [
       "<Figure size 432x288 with 2 Axes>"
      ]
     },
     "metadata": {
      "needs_background": "light"
     },
     "output_type": "display_data"
    }
   ],
   "source": [
    "x_plot = np.arange(0, epoch, 1)\n",
    "fig, ax1 = plt.subplots()\n",
    "ax1.xaxis.set_major_locator(MaxNLocator(integer=True))\n",
    "ax1.set_xlabel('epoch')\n",
    "ax1.set_ylabel('Greedy factor')\n",
    "ax1.plot(x_plot, g_list, 'r')\n",
    "ax2 = ax1.twinx()\n",
    "ax2.set_ylabel('Experience factor')\n",
    "ax2.plot(x_plot, e_list, 'b')\n",
    "\n",
    "ax1.legend(('Greedy factor'))\n",
    "ax2.legend(('Experience factor'))"
   ]
  },
  {
   "cell_type": "code",
   "execution_count": 17,
   "metadata": {
    "colab": {
     "base_uri": "https://localhost:8080/",
     "height": 84
    },
    "colab_type": "code",
    "executionInfo": {
     "elapsed": 4607,
     "status": "ok",
     "timestamp": 1561631634187,
     "user": {
      "displayName": "Ruichen Zheng",
      "photoUrl": "https://lh4.googleusercontent.com/-6Dp_Qd9nKrI/AAAAAAAAAAI/AAAAAAAA8O4/JHbNZn5Xe6g/s64/photo.jpg",
      "userId": "13358573487705527957"
     },
     "user_tz": -60
    },
    "id": "wmwDy8SxWfq4",
    "outputId": "f873be48-c246-4800-ee52-6a20ca4464a4"
   },
   "outputs": [
    {
     "name": "stdout",
     "output_type": "stream",
     "text": [
      "Training results:\n",
      "k_s:  5\n",
      "g:  0.9\n",
      "e:  0.1\n"
     ]
    }
   ],
   "source": [
    "print(\"Training results:\")\n",
    "print(\"k_s: \", k_s)\n",
    "print(\"g: \", g.data.numpy())\n",
    "print(\"e: \", e.data.numpy())"
   ]
  },
  {
   "cell_type": "code",
   "execution_count": 18,
   "metadata": {
    "colab": {},
    "colab_type": "code",
    "id": "yRU7MNgUGTLb"
   },
   "outputs": [],
   "source": [
    "def UpdateParameters_test(cpu_input, cpu_history, cpu_global_history):\n",
    "    \n",
    "    # For opponent k\n",
    "    p_k_o = []\n",
    "    for k_o in range(1, 6):\n",
    "        p_k_o.append(GetPosterior_self(k_o, cpu_history, cpu_global_history)[cpu_input])\n",
    "    \n",
    "    k_index_o = np.argsort(np.asarray(p_k_o)) + 1\n",
    "    k_o = k_index_o[0]\n",
    "    \n",
    "    return k_o"
   ]
  },
  {
   "cell_type": "code",
   "execution_count": 19,
   "metadata": {
    "colab": {
     "base_uri": "https://localhost:8080/",
     "height": 1000
    },
    "colab_type": "code",
    "executionInfo": {
     "elapsed": 26659,
     "status": "error",
     "timestamp": 1561631682152,
     "user": {
      "displayName": "Ruichen Zheng",
      "photoUrl": "https://lh4.googleusercontent.com/-6Dp_Qd9nKrI/AAAAAAAAAAI/AAAAAAAA8O4/JHbNZn5Xe6g/s64/photo.jpg",
      "userId": "13358573487705527957"
     },
     "user_tz": -60
    },
    "id": "nkLku1rTWfq8",
    "outputId": "d71247fc-fec3-49e4-d981-a787d0a3029e"
   },
   "outputs": [
    {
     "name": "stdout",
     "output_type": "stream",
     "text": [
      "Testing...\n",
      "===============================================================\n",
      "Epoch:  0\n",
      "Rock 0, Paper 1 or Scissor 2? (stop 3) 0\n",
      "User input:  rock\n",
      "CPU input:  rock\n",
      "Draw\n",
      "===============================================================\n",
      "Epoch:  1\n",
      "Rock 0, Paper 1 or Scissor 2? (stop 3) 1\n",
      "User input:  paper\n",
      "CPU input:  paper\n",
      "Draw\n",
      "===============================================================\n",
      "Epoch:  2\n",
      "Rock 0, Paper 1 or Scissor 2? (stop 3) 2\n",
      "User input:  scissor\n",
      "CPU input:  paper\n",
      "Win\n",
      "===============================================================\n",
      "Epoch:  3\n",
      "Rock 0, Paper 1 or Scissor 2? (stop 3) 2\n",
      "User input:  scissor\n",
      "CPU input:  rock\n",
      "Lose\n",
      "===============================================================\n",
      "Epoch:  4\n",
      "Rock 0, Paper 1 or Scissor 2? (stop 3) 0\n",
      "User input:  rock\n",
      "CPU input:  rock\n",
      "Draw\n",
      "===============================================================\n",
      "Epoch:  5\n",
      "Rock 0, Paper 1 or Scissor 2? (stop 3) 1\n",
      "User input:  paper\n",
      "CPU input:  paper\n",
      "Draw\n",
      "===============================================================\n",
      "Epoch:  6\n",
      "Rock 0, Paper 1 or Scissor 2? (stop 3) 2\n",
      "User input:  scissor\n",
      "CPU input:  rock\n",
      "Lose\n",
      "===============================================================\n",
      "Epoch:  7\n",
      "Rock 0, Paper 1 or Scissor 2? (stop 3) 2\n",
      "User input:  scissor\n",
      "CPU input:  rock\n",
      "Lose\n",
      "===============================================================\n",
      "Epoch:  8\n",
      "Rock 0, Paper 1 or Scissor 2? (stop 3) 0\n",
      "User input:  rock\n",
      "CPU input:  rock\n",
      "Draw\n",
      "===============================================================\n",
      "Epoch:  9\n",
      "Rock 0, Paper 1 or Scissor 2? (stop 3) 2\n",
      "User input:  scissor\n",
      "CPU input:  scissor\n",
      "Draw\n",
      "===============================================================\n",
      "Epoch:  10\n",
      "Rock 0, Paper 1 or Scissor 2? (stop 3) 0\n",
      "User input:  rock\n",
      "CPU input:  rock\n",
      "Draw\n",
      "===============================================================\n",
      "Epoch:  11\n",
      "Rock 0, Paper 1 or Scissor 2? (stop 3) 0\n",
      "User input:  rock\n",
      "CPU input:  paper\n",
      "Lose\n",
      "===============================================================\n",
      "Epoch:  12\n",
      "Rock 0, Paper 1 or Scissor 2? (stop 3) 1\n",
      "User input:  paper\n",
      "CPU input:  rock\n",
      "Win\n",
      "===============================================================\n",
      "Epoch:  13\n",
      "Rock 0, Paper 1 or Scissor 2? (stop 3) 1\n",
      "User input:  paper\n",
      "CPU input:  rock\n",
      "Win\n",
      "===============================================================\n",
      "Epoch:  14\n",
      "Rock 0, Paper 1 or Scissor 2? (stop 3) 1\n",
      "User input:  paper\n",
      "CPU input:  scissor\n",
      "Lose\n",
      "===============================================================\n",
      "Epoch:  15\n",
      "Rock 0, Paper 1 or Scissor 2? (stop 3) 1\n",
      "User input:  paper\n",
      "CPU input:  rock\n",
      "Win\n",
      "===============================================================\n",
      "Epoch:  16\n",
      "Rock 0, Paper 1 or Scissor 2? (stop 3) 1\n",
      "User input:  paper\n",
      "CPU input:  scissor\n",
      "Lose\n",
      "===============================================================\n",
      "Epoch:  17\n",
      "Rock 0, Paper 1 or Scissor 2? (stop 3) 1\n",
      "User input:  paper\n",
      "CPU input:  scissor\n",
      "Lose\n",
      "===============================================================\n",
      "Epoch:  18\n",
      "Rock 0, Paper 1 or Scissor 2? (stop 3) 1\n",
      "User input:  paper\n",
      "CPU input:  scissor\n",
      "Lose\n",
      "===============================================================\n",
      "Epoch:  19\n",
      "Rock 0, Paper 1 or Scissor 2? (stop 3) 1\n",
      "User input:  paper\n",
      "CPU input:  scissor\n",
      "Lose\n"
     ]
    }
   ],
   "source": [
    "# Clear opponent history\n",
    "cpu_history = \"\"\n",
    "cpu_global_history = \"\"\n",
    "print(\"Testing...\")\n",
    "\n",
    "draw = 0\n",
    "draw_rate = []\n",
    "\n",
    "win = 0\n",
    "win_rate = []\n",
    "\n",
    "lose = 0\n",
    "lose_rate = []\n",
    "\n",
    "with torch.no_grad():\n",
    "    for i in range(epoch):\n",
    "        print(\"===============================================================\")\n",
    "        print(\"Epoch: \", i)\n",
    "        \n",
    "        #Get cpu input\n",
    "        cpu_input = np.argmax(PosteriorCalculation(cpu_history, cpu_global_history, self_history, global_history, g, e, k_s, k_o))\n",
    "        \n",
    "        # Get and record user input\n",
    "        user_input = GetUserInput()\n",
    "        \n",
    "        k_o = UpdateParameters_test(user_input, cpu_history, cpu_global_history)\n",
    "        \n",
    "        cpu_history += str(user_input)\n",
    "        cpu_global_history += str(user_input)\n",
    "        cpu_global_history += str(cpu_input)\n",
    "        \n",
    "        \n",
    "        if user_input == 3:\n",
    "            print(\"Stop\")\n",
    "            break\n",
    "        elif user_input == 0 or user_input == 1 or user_input == 2:\n",
    "            print(\"User input: \", GetInputString(user_input))\n",
    "            print(\"CPU input: \", GetInputString(cpu_input))\n",
    "            \n",
    "            if any( [user_input == 0 and cpu_input == 0, user_input == 1 and cpu_input == 1, user_input == 2 and cpu_input == 2] ):\n",
    "                print(\"Draw\")\n",
    "                draw += 1\n",
    "            elif any([user_input == 0 and cpu_input == 2, user_input == 1 and cpu_input == 0, user_input == 2 and cpu_input == 1]):\n",
    "                print(\"Win\")\n",
    "                win += 1\n",
    "            elif any([user_input == 0 and cpu_input == 1, user_input == 1 and cpu_input == 2, user_input == 2 and cpu_input == 0]):\n",
    "                print(\"Lose\")\n",
    "                lose += 1\n",
    "                \n",
    "            r_d = draw/(win + draw + lose)\n",
    "            draw_rate.append(r_d)\n",
    "            \n",
    "            r_w = win/(win + draw + lose)\n",
    "            win_rate.append(r_w)\n",
    "            \n",
    "            r_l = lose/(win + draw + lose)\n",
    "            lose_rate.append(r_l)\n",
    "        "
   ]
  },
  {
   "cell_type": "code",
   "execution_count": 20,
   "metadata": {
    "colab": {
     "base_uri": "https://localhost:8080/",
     "height": 300
    },
    "colab_type": "code",
    "executionInfo": {
     "elapsed": 456,
     "status": "ok",
     "timestamp": 1561630840849,
     "user": {
      "displayName": "Ruichen Zheng",
      "photoUrl": "https://lh4.googleusercontent.com/-6Dp_Qd9nKrI/AAAAAAAAAAI/AAAAAAAA8O4/JHbNZn5Xe6g/s64/photo.jpg",
      "userId": "13358573487705527957"
     },
     "user_tz": -60
    },
    "id": "k97HpYY0Wfq_",
    "outputId": "1eedb0c9-83d6-4d55-a959-9b55d6409793"
   },
   "outputs": [
    {
     "data": {
      "text/plain": [
       "<matplotlib.legend.Legend at 0x7fc0a2de9e48>"
      ]
     },
     "execution_count": 20,
     "metadata": {},
     "output_type": "execute_result"
    },
    {
     "data": {
      "image/png": "[encoded data removed]",
      "text/plain": [
       "<Figure size 432x288 with 1 Axes>"
      ]
     },
     "metadata": {
      "needs_background": "light"
     },
     "output_type": "display_data"
    }
   ],
   "source": [
    "x_plot = np.arange(0, epoch, 1)\n",
    "fig, ax1 = plt.subplots()\n",
    "ax1.set_xlabel('epoch')\n",
    "ax1.xaxis.set_major_locator(MaxNLocator(integer=True))\n",
    "\n",
    "ax1.plot(x_plot, draw_rate)\n",
    "ax1.plot(x_plot, win_rate)\n",
    "ax1.plot(x_plot, lose_rate)\n",
    "\n",
    "plt.legend(('Draw rate', 'Win rate', 'Lose rate'),\n",
    "           loc='upper right')"
   ]
  },
  {
   "cell_type": "code",
   "execution_count": 0,
   "metadata": {
    "colab": {},
    "colab_type": "code",
    "id": "JCBSbnvMWfrB"
   },
   "outputs": [],
   "source": []
  }
 ],
 "metadata": {
  "colab": {
   "collapsed_sections": [],
   "name": "Rock Paper Scissor.ipynb",
   "provenance": [],
   "version": "0.3.2"
  },
  "kernelspec": {
   "display_name": "Python 3",
   "language": "python",
   "name": "python3"
  },
  "language_info": {
   "codemirror_mode": {
    "name": "ipython",
    "version": 3
   },
   "file_extension": ".py",
   "mimetype": "text/x-python",
   "name": "python",
   "nbconvert_exporter": "python",
   "pygments_lexer": "ipython3",
   "version": "3.7.3"
  }
 },
 "nbformat": 4,
 "nbformat_minor": 1
}
